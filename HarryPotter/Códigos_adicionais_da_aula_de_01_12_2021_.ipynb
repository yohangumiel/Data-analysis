{
  "nbformat": 4,
  "nbformat_minor": 0,
  "metadata": {
    "colab": {
      "name": "Códigos adicionais da aula de 01_12_2021 .ipynb",
      "provenance": [],
      "collapsed_sections": [],
      "authorship_tag": "ABX9TyO/i2iB6KoeumUVEyEylxb8",
      "include_colab_link": true
    },
    "kernelspec": {
      "name": "python3",
      "display_name": "Python 3"
    },
    "language_info": {
      "name": "python"
    },
    "accelerator": "GPU",
    "widgets": {
      "application/vnd.jupyter.widget-state+json": {
        "96ada9da52824d5eac0a3e27822139e4": {
          "model_module": "@jupyter-widgets/controls",
          "model_name": "HBoxModel",
          "model_module_version": "1.5.0",
          "state": {
            "_view_name": "HBoxView",
            "_dom_classes": [],
            "_model_name": "HBoxModel",
            "_view_module": "@jupyter-widgets/controls",
            "_model_module_version": "1.5.0",
            "_view_count": null,
            "_view_module_version": "1.5.0",
            "box_style": "",
            "layout": "IPY_MODEL_90e42b6153c24df2bd42cee07049a857",
            "_model_module": "@jupyter-widgets/controls",
            "children": [
              "IPY_MODEL_66d1a857ed7c4a89936341cf9b2ebd70",
              "IPY_MODEL_5c4a2edb2da04abea38d452df7bec6ee",
              "IPY_MODEL_1d6baf11e0ae4994ae256f22c522e6b8"
            ]
          }
        },
        "90e42b6153c24df2bd42cee07049a857": {
          "model_module": "@jupyter-widgets/base",
          "model_name": "LayoutModel",
          "model_module_version": "1.2.0",
          "state": {
            "_view_name": "LayoutView",
            "grid_template_rows": null,
            "right": null,
            "justify_content": null,
            "_view_module": "@jupyter-widgets/base",
            "overflow": null,
            "_model_module_version": "1.2.0",
            "_view_count": null,
            "flex_flow": null,
            "width": null,
            "min_width": null,
            "border": null,
            "align_items": null,
            "bottom": null,
            "_model_module": "@jupyter-widgets/base",
            "top": null,
            "grid_column": null,
            "overflow_y": null,
            "overflow_x": null,
            "grid_auto_flow": null,
            "grid_area": null,
            "grid_template_columns": null,
            "flex": null,
            "_model_name": "LayoutModel",
            "justify_items": null,
            "grid_row": null,
            "max_height": null,
            "align_content": null,
            "visibility": null,
            "align_self": null,
            "height": null,
            "min_height": null,
            "padding": null,
            "grid_auto_rows": null,
            "grid_gap": null,
            "max_width": null,
            "order": null,
            "_view_module_version": "1.2.0",
            "grid_template_areas": null,
            "object_position": null,
            "object_fit": null,
            "grid_auto_columns": null,
            "margin": null,
            "display": null,
            "left": null
          }
        },
        "66d1a857ed7c4a89936341cf9b2ebd70": {
          "model_module": "@jupyter-widgets/controls",
          "model_name": "HTMLModel",
          "model_module_version": "1.5.0",
          "state": {
            "_view_name": "HTMLView",
            "style": "IPY_MODEL_56c49ebee260456e84eb6a044509babf",
            "_dom_classes": [],
            "description": "",
            "_model_name": "HTMLModel",
            "placeholder": "​",
            "_view_module": "@jupyter-widgets/controls",
            "_model_module_version": "1.5.0",
            "value": "Downloading https://raw.githubusercontent.com/stanfordnlp/stanza-resources/main/resources_1.3.0.json: ",
            "_view_count": null,
            "_view_module_version": "1.5.0",
            "description_tooltip": null,
            "_model_module": "@jupyter-widgets/controls",
            "layout": "IPY_MODEL_7562c765d6614184a0ee12595d6fb8fe"
          }
        },
        "5c4a2edb2da04abea38d452df7bec6ee": {
          "model_module": "@jupyter-widgets/controls",
          "model_name": "FloatProgressModel",
          "model_module_version": "1.5.0",
          "state": {
            "_view_name": "ProgressView",
            "style": "IPY_MODEL_8b466c005fbd42b9a800f0d922bf6018",
            "_dom_classes": [],
            "description": "",
            "_model_name": "FloatProgressModel",
            "bar_style": "success",
            "max": 24459,
            "_view_module": "@jupyter-widgets/controls",
            "_model_module_version": "1.5.0",
            "value": 24459,
            "_view_count": null,
            "_view_module_version": "1.5.0",
            "orientation": "horizontal",
            "min": 0,
            "description_tooltip": null,
            "_model_module": "@jupyter-widgets/controls",
            "layout": "IPY_MODEL_3602bbeb865f44e9aebfef5c659e0c4e"
          }
        },
        "1d6baf11e0ae4994ae256f22c522e6b8": {
          "model_module": "@jupyter-widgets/controls",
          "model_name": "HTMLModel",
          "model_module_version": "1.5.0",
          "state": {
            "_view_name": "HTMLView",
            "style": "IPY_MODEL_ce65e4634e01493f8d5969ec46cd2838",
            "_dom_classes": [],
            "description": "",
            "_model_name": "HTMLModel",
            "placeholder": "​",
            "_view_module": "@jupyter-widgets/controls",
            "_model_module_version": "1.5.0",
            "value": " 142k/? [00:00&lt;00:00, 3.43MB/s]",
            "_view_count": null,
            "_view_module_version": "1.5.0",
            "description_tooltip": null,
            "_model_module": "@jupyter-widgets/controls",
            "layout": "IPY_MODEL_3b49d50c7c5440fd9cca55dc953bab37"
          }
        },
        "56c49ebee260456e84eb6a044509babf": {
          "model_module": "@jupyter-widgets/controls",
          "model_name": "DescriptionStyleModel",
          "model_module_version": "1.5.0",
          "state": {
            "_view_name": "StyleView",
            "_model_name": "DescriptionStyleModel",
            "description_width": "",
            "_view_module": "@jupyter-widgets/base",
            "_model_module_version": "1.5.0",
            "_view_count": null,
            "_view_module_version": "1.2.0",
            "_model_module": "@jupyter-widgets/controls"
          }
        },
        "7562c765d6614184a0ee12595d6fb8fe": {
          "model_module": "@jupyter-widgets/base",
          "model_name": "LayoutModel",
          "model_module_version": "1.2.0",
          "state": {
            "_view_name": "LayoutView",
            "grid_template_rows": null,
            "right": null,
            "justify_content": null,
            "_view_module": "@jupyter-widgets/base",
            "overflow": null,
            "_model_module_version": "1.2.0",
            "_view_count": null,
            "flex_flow": null,
            "width": null,
            "min_width": null,
            "border": null,
            "align_items": null,
            "bottom": null,
            "_model_module": "@jupyter-widgets/base",
            "top": null,
            "grid_column": null,
            "overflow_y": null,
            "overflow_x": null,
            "grid_auto_flow": null,
            "grid_area": null,
            "grid_template_columns": null,
            "flex": null,
            "_model_name": "LayoutModel",
            "justify_items": null,
            "grid_row": null,
            "max_height": null,
            "align_content": null,
            "visibility": null,
            "align_self": null,
            "height": null,
            "min_height": null,
            "padding": null,
            "grid_auto_rows": null,
            "grid_gap": null,
            "max_width": null,
            "order": null,
            "_view_module_version": "1.2.0",
            "grid_template_areas": null,
            "object_position": null,
            "object_fit": null,
            "grid_auto_columns": null,
            "margin": null,
            "display": null,
            "left": null
          }
        },
        "8b466c005fbd42b9a800f0d922bf6018": {
          "model_module": "@jupyter-widgets/controls",
          "model_name": "ProgressStyleModel",
          "model_module_version": "1.5.0",
          "state": {
            "_view_name": "StyleView",
            "_model_name": "ProgressStyleModel",
            "description_width": "",
            "_view_module": "@jupyter-widgets/base",
            "_model_module_version": "1.5.0",
            "_view_count": null,
            "_view_module_version": "1.2.0",
            "bar_color": null,
            "_model_module": "@jupyter-widgets/controls"
          }
        },
        "3602bbeb865f44e9aebfef5c659e0c4e": {
          "model_module": "@jupyter-widgets/base",
          "model_name": "LayoutModel",
          "model_module_version": "1.2.0",
          "state": {
            "_view_name": "LayoutView",
            "grid_template_rows": null,
            "right": null,
            "justify_content": null,
            "_view_module": "@jupyter-widgets/base",
            "overflow": null,
            "_model_module_version": "1.2.0",
            "_view_count": null,
            "flex_flow": null,
            "width": null,
            "min_width": null,
            "border": null,
            "align_items": null,
            "bottom": null,
            "_model_module": "@jupyter-widgets/base",
            "top": null,
            "grid_column": null,
            "overflow_y": null,
            "overflow_x": null,
            "grid_auto_flow": null,
            "grid_area": null,
            "grid_template_columns": null,
            "flex": null,
            "_model_name": "LayoutModel",
            "justify_items": null,
            "grid_row": null,
            "max_height": null,
            "align_content": null,
            "visibility": null,
            "align_self": null,
            "height": null,
            "min_height": null,
            "padding": null,
            "grid_auto_rows": null,
            "grid_gap": null,
            "max_width": null,
            "order": null,
            "_view_module_version": "1.2.0",
            "grid_template_areas": null,
            "object_position": null,
            "object_fit": null,
            "grid_auto_columns": null,
            "margin": null,
            "display": null,
            "left": null
          }
        },
        "ce65e4634e01493f8d5969ec46cd2838": {
          "model_module": "@jupyter-widgets/controls",
          "model_name": "DescriptionStyleModel",
          "model_module_version": "1.5.0",
          "state": {
            "_view_name": "StyleView",
            "_model_name": "DescriptionStyleModel",
            "description_width": "",
            "_view_module": "@jupyter-widgets/base",
            "_model_module_version": "1.5.0",
            "_view_count": null,
            "_view_module_version": "1.2.0",
            "_model_module": "@jupyter-widgets/controls"
          }
        },
        "3b49d50c7c5440fd9cca55dc953bab37": {
          "model_module": "@jupyter-widgets/base",
          "model_name": "LayoutModel",
          "model_module_version": "1.2.0",
          "state": {
            "_view_name": "LayoutView",
            "grid_template_rows": null,
            "right": null,
            "justify_content": null,
            "_view_module": "@jupyter-widgets/base",
            "overflow": null,
            "_model_module_version": "1.2.0",
            "_view_count": null,
            "flex_flow": null,
            "width": null,
            "min_width": null,
            "border": null,
            "align_items": null,
            "bottom": null,
            "_model_module": "@jupyter-widgets/base",
            "top": null,
            "grid_column": null,
            "overflow_y": null,
            "overflow_x": null,
            "grid_auto_flow": null,
            "grid_area": null,
            "grid_template_columns": null,
            "flex": null,
            "_model_name": "LayoutModel",
            "justify_items": null,
            "grid_row": null,
            "max_height": null,
            "align_content": null,
            "visibility": null,
            "align_self": null,
            "height": null,
            "min_height": null,
            "padding": null,
            "grid_auto_rows": null,
            "grid_gap": null,
            "max_width": null,
            "order": null,
            "_view_module_version": "1.2.0",
            "grid_template_areas": null,
            "object_position": null,
            "object_fit": null,
            "grid_auto_columns": null,
            "margin": null,
            "display": null,
            "left": null
          }
        },
        "ec9f2da97f6e401ea95adc3f355d3e3b": {
          "model_module": "@jupyter-widgets/controls",
          "model_name": "HBoxModel",
          "model_module_version": "1.5.0",
          "state": {
            "_view_name": "HBoxView",
            "_dom_classes": [],
            "_model_name": "HBoxModel",
            "_view_module": "@jupyter-widgets/controls",
            "_model_module_version": "1.5.0",
            "_view_count": null,
            "_view_module_version": "1.5.0",
            "box_style": "",
            "layout": "IPY_MODEL_e00d39b2d6804eb09a946de20f4d1dbd",
            "_model_module": "@jupyter-widgets/controls",
            "children": [
              "IPY_MODEL_f02a2702f51c41ebb754c9e2e37197ac",
              "IPY_MODEL_878a67fbe25944f5b9febe7d1a1715e9",
              "IPY_MODEL_c515812c82a343db95d7e6dec32a28af"
            ]
          }
        },
        "e00d39b2d6804eb09a946de20f4d1dbd": {
          "model_module": "@jupyter-widgets/base",
          "model_name": "LayoutModel",
          "model_module_version": "1.2.0",
          "state": {
            "_view_name": "LayoutView",
            "grid_template_rows": null,
            "right": null,
            "justify_content": null,
            "_view_module": "@jupyter-widgets/base",
            "overflow": null,
            "_model_module_version": "1.2.0",
            "_view_count": null,
            "flex_flow": null,
            "width": null,
            "min_width": null,
            "border": null,
            "align_items": null,
            "bottom": null,
            "_model_module": "@jupyter-widgets/base",
            "top": null,
            "grid_column": null,
            "overflow_y": null,
            "overflow_x": null,
            "grid_auto_flow": null,
            "grid_area": null,
            "grid_template_columns": null,
            "flex": null,
            "_model_name": "LayoutModel",
            "justify_items": null,
            "grid_row": null,
            "max_height": null,
            "align_content": null,
            "visibility": null,
            "align_self": null,
            "height": null,
            "min_height": null,
            "padding": null,
            "grid_auto_rows": null,
            "grid_gap": null,
            "max_width": null,
            "order": null,
            "_view_module_version": "1.2.0",
            "grid_template_areas": null,
            "object_position": null,
            "object_fit": null,
            "grid_auto_columns": null,
            "margin": null,
            "display": null,
            "left": null
          }
        },
        "f02a2702f51c41ebb754c9e2e37197ac": {
          "model_module": "@jupyter-widgets/controls",
          "model_name": "HTMLModel",
          "model_module_version": "1.5.0",
          "state": {
            "_view_name": "HTMLView",
            "style": "IPY_MODEL_d97b532269194401919afe7506ee3231",
            "_dom_classes": [],
            "description": "",
            "_model_name": "HTMLModel",
            "placeholder": "​",
            "_view_module": "@jupyter-widgets/controls",
            "_model_module_version": "1.5.0",
            "value": "Downloading https://raw.githubusercontent.com/stanfordnlp/stanza-resources/main/resources_1.3.0.json: ",
            "_view_count": null,
            "_view_module_version": "1.5.0",
            "description_tooltip": null,
            "_model_module": "@jupyter-widgets/controls",
            "layout": "IPY_MODEL_6207d4ee9ed7406f9f7efbf6be5a8740"
          }
        },
        "878a67fbe25944f5b9febe7d1a1715e9": {
          "model_module": "@jupyter-widgets/controls",
          "model_name": "FloatProgressModel",
          "model_module_version": "1.5.0",
          "state": {
            "_view_name": "ProgressView",
            "style": "IPY_MODEL_872a8387279b4b14867efd08d266e8aa",
            "_dom_classes": [],
            "description": "",
            "_model_name": "FloatProgressModel",
            "bar_style": "success",
            "max": 24459,
            "_view_module": "@jupyter-widgets/controls",
            "_model_module_version": "1.5.0",
            "value": 24459,
            "_view_count": null,
            "_view_module_version": "1.5.0",
            "orientation": "horizontal",
            "min": 0,
            "description_tooltip": null,
            "_model_module": "@jupyter-widgets/controls",
            "layout": "IPY_MODEL_fef3897e25a1441fadd7496d4c605694"
          }
        },
        "c515812c82a343db95d7e6dec32a28af": {
          "model_module": "@jupyter-widgets/controls",
          "model_name": "HTMLModel",
          "model_module_version": "1.5.0",
          "state": {
            "_view_name": "HTMLView",
            "style": "IPY_MODEL_b0408a1d0200460cbdc60f11ecdea753",
            "_dom_classes": [],
            "description": "",
            "_model_name": "HTMLModel",
            "placeholder": "​",
            "_view_module": "@jupyter-widgets/controls",
            "_model_module_version": "1.5.0",
            "value": " 142k/? [00:00&lt;00:00, 3.18MB/s]",
            "_view_count": null,
            "_view_module_version": "1.5.0",
            "description_tooltip": null,
            "_model_module": "@jupyter-widgets/controls",
            "layout": "IPY_MODEL_ad547c89e1304ec883d6c502ab25a812"
          }
        },
        "d97b532269194401919afe7506ee3231": {
          "model_module": "@jupyter-widgets/controls",
          "model_name": "DescriptionStyleModel",
          "model_module_version": "1.5.0",
          "state": {
            "_view_name": "StyleView",
            "_model_name": "DescriptionStyleModel",
            "description_width": "",
            "_view_module": "@jupyter-widgets/base",
            "_model_module_version": "1.5.0",
            "_view_count": null,
            "_view_module_version": "1.2.0",
            "_model_module": "@jupyter-widgets/controls"
          }
        },
        "6207d4ee9ed7406f9f7efbf6be5a8740": {
          "model_module": "@jupyter-widgets/base",
          "model_name": "LayoutModel",
          "model_module_version": "1.2.0",
          "state": {
            "_view_name": "LayoutView",
            "grid_template_rows": null,
            "right": null,
            "justify_content": null,
            "_view_module": "@jupyter-widgets/base",
            "overflow": null,
            "_model_module_version": "1.2.0",
            "_view_count": null,
            "flex_flow": null,
            "width": null,
            "min_width": null,
            "border": null,
            "align_items": null,
            "bottom": null,
            "_model_module": "@jupyter-widgets/base",
            "top": null,
            "grid_column": null,
            "overflow_y": null,
            "overflow_x": null,
            "grid_auto_flow": null,
            "grid_area": null,
            "grid_template_columns": null,
            "flex": null,
            "_model_name": "LayoutModel",
            "justify_items": null,
            "grid_row": null,
            "max_height": null,
            "align_content": null,
            "visibility": null,
            "align_self": null,
            "height": null,
            "min_height": null,
            "padding": null,
            "grid_auto_rows": null,
            "grid_gap": null,
            "max_width": null,
            "order": null,
            "_view_module_version": "1.2.0",
            "grid_template_areas": null,
            "object_position": null,
            "object_fit": null,
            "grid_auto_columns": null,
            "margin": null,
            "display": null,
            "left": null
          }
        },
        "872a8387279b4b14867efd08d266e8aa": {
          "model_module": "@jupyter-widgets/controls",
          "model_name": "ProgressStyleModel",
          "model_module_version": "1.5.0",
          "state": {
            "_view_name": "StyleView",
            "_model_name": "ProgressStyleModel",
            "description_width": "",
            "_view_module": "@jupyter-widgets/base",
            "_model_module_version": "1.5.0",
            "_view_count": null,
            "_view_module_version": "1.2.0",
            "bar_color": null,
            "_model_module": "@jupyter-widgets/controls"
          }
        },
        "fef3897e25a1441fadd7496d4c605694": {
          "model_module": "@jupyter-widgets/base",
          "model_name": "LayoutModel",
          "model_module_version": "1.2.0",
          "state": {
            "_view_name": "LayoutView",
            "grid_template_rows": null,
            "right": null,
            "justify_content": null,
            "_view_module": "@jupyter-widgets/base",
            "overflow": null,
            "_model_module_version": "1.2.0",
            "_view_count": null,
            "flex_flow": null,
            "width": null,
            "min_width": null,
            "border": null,
            "align_items": null,
            "bottom": null,
            "_model_module": "@jupyter-widgets/base",
            "top": null,
            "grid_column": null,
            "overflow_y": null,
            "overflow_x": null,
            "grid_auto_flow": null,
            "grid_area": null,
            "grid_template_columns": null,
            "flex": null,
            "_model_name": "LayoutModel",
            "justify_items": null,
            "grid_row": null,
            "max_height": null,
            "align_content": null,
            "visibility": null,
            "align_self": null,
            "height": null,
            "min_height": null,
            "padding": null,
            "grid_auto_rows": null,
            "grid_gap": null,
            "max_width": null,
            "order": null,
            "_view_module_version": "1.2.0",
            "grid_template_areas": null,
            "object_position": null,
            "object_fit": null,
            "grid_auto_columns": null,
            "margin": null,
            "display": null,
            "left": null
          }
        },
        "b0408a1d0200460cbdc60f11ecdea753": {
          "model_module": "@jupyter-widgets/controls",
          "model_name": "DescriptionStyleModel",
          "model_module_version": "1.5.0",
          "state": {
            "_view_name": "StyleView",
            "_model_name": "DescriptionStyleModel",
            "description_width": "",
            "_view_module": "@jupyter-widgets/base",
            "_model_module_version": "1.5.0",
            "_view_count": null,
            "_view_module_version": "1.2.0",
            "_model_module": "@jupyter-widgets/controls"
          }
        },
        "ad547c89e1304ec883d6c502ab25a812": {
          "model_module": "@jupyter-widgets/base",
          "model_name": "LayoutModel",
          "model_module_version": "1.2.0",
          "state": {
            "_view_name": "LayoutView",
            "grid_template_rows": null,
            "right": null,
            "justify_content": null,
            "_view_module": "@jupyter-widgets/base",
            "overflow": null,
            "_model_module_version": "1.2.0",
            "_view_count": null,
            "flex_flow": null,
            "width": null,
            "min_width": null,
            "border": null,
            "align_items": null,
            "bottom": null,
            "_model_module": "@jupyter-widgets/base",
            "top": null,
            "grid_column": null,
            "overflow_y": null,
            "overflow_x": null,
            "grid_auto_flow": null,
            "grid_area": null,
            "grid_template_columns": null,
            "flex": null,
            "_model_name": "LayoutModel",
            "justify_items": null,
            "grid_row": null,
            "max_height": null,
            "align_content": null,
            "visibility": null,
            "align_self": null,
            "height": null,
            "min_height": null,
            "padding": null,
            "grid_auto_rows": null,
            "grid_gap": null,
            "max_width": null,
            "order": null,
            "_view_module_version": "1.2.0",
            "grid_template_areas": null,
            "object_position": null,
            "object_fit": null,
            "grid_auto_columns": null,
            "margin": null,
            "display": null,
            "left": null
          }
        }
      }
    }
  },
  "cells": [
    {
      "cell_type": "markdown",
      "metadata": {
        "id": "view-in-github",
        "colab_type": "text"
      },
      "source": [
        "<a href=\"https://colab.research.google.com/github/yohangumiel/Data-analysis/blob/main/HarryPotter/C%C3%B3digos_adicionais_da_aula_de_01_12_2021_.ipynb\" target=\"_parent\"><img src=\"https://colab.research.google.com/assets/colab-badge.svg\" alt=\"Open In Colab\"/></a>"
      ]
    },
    {
      "cell_type": "markdown",
      "metadata": {
        "id": "7SLNh639ZkmV"
      },
      "source": [
        "# EXEMPLO DE COMO ADICIONAR SÍMBOLO A LISTA DE SÍMBOLOS"
      ]
    },
    {
      "cell_type": "code",
      "metadata": {
        "colab": {
          "base_uri": "https://localhost:8080/",
          "height": 35
        },
        "id": "6Nwv-RQKE-jt",
        "outputId": "22264ccf-712f-4ebb-b716-e42dc91bdde7"
      },
      "source": [
        "import string\n",
        "remove_pt = string.punctuation\n",
        "remove_pt + '—'"
      ],
      "execution_count": 17,
      "outputs": [
        {
          "output_type": "execute_result",
          "data": {
            "application/vnd.google.colaboratory.intrinsic+json": {
              "type": "string"
            },
            "text/plain": [
              "'!\"#$%&\\'()*+,-./:;<=>?@[\\\\]^_`{|}~—'"
            ]
          },
          "metadata": {},
          "execution_count": 17
        }
      ]
    },
    {
      "cell_type": "markdown",
      "metadata": {
        "id": "ov7abSTnZqSz"
      },
      "source": [
        "# EXEMPLO DE COMO ADICIONAR POS TAGGING OU TENSE AOS TEXTOS"
      ]
    },
    {
      "cell_type": "code",
      "metadata": {
        "colab": {
          "base_uri": "https://localhost:8080/"
        },
        "id": "_ObDpe1Vl3KQ",
        "outputId": "ee11c05f-f911-471e-a75f-e7d31720c03c"
      },
      "source": [
        "!pip install stanza\n",
        "import stanza\n",
        "import nltk\n",
        "nltk.download('punkt')\n",
        "from nltk import sent_tokenize, word_tokenize\n",
        "\n",
        "def pos_tagging(lst_sentences, language = 'pt'):\n",
        "    \"\"\"\n",
        "    lst_text = lista de sentenças segmentadas e tokenizadas\n",
        "    language = idioma, segundo https://stanfordnlp.github.io/stanza/available_models.html\n",
        "    \n",
        "    \"\"\"\n",
        "\n",
        "    try:\n",
        "        stanza.download(language)\n",
        "        stanza_nlp = stanza.Pipeline(language, tokenize_pretokenized= True, use_gpu= True)\n",
        "    except:\n",
        "        print('MENSAGEM AO USUÁRIO: Favor fornecer um idioma válido')\n",
        "        return None\n",
        "    lst_pos = []\n",
        "    lst_processed = []\n",
        "    for sentence in lst_sentences:   \n",
        "        doc = stanza_nlp([sentence])\n",
        "        for sent in doc.sentences:\n",
        "            for word in sent.words:\n",
        "                lst_pos.append(str(word.text) + '_' + str(word.pos))      \n",
        "        lst_processed.append(lst_pos)\n",
        "        lst_pos = []\n",
        "    return lst_processed\n",
        "\n",
        "\n",
        "def tense(lst_sentences, language = 'pt'):\n",
        "    \"\"\"\n",
        "    lst_text = lista de sentenças segmentadas e tokenizadas\n",
        "    language = idioma, segundo https://stanfordnlp.github.io/stanza/available_models.html\n",
        "    \n",
        "    \"\"\"\n",
        "\n",
        "    try:\n",
        "        stanza.download(language)\n",
        "        stanza_nlp = stanza.Pipeline(language, tokenize_pretokenized= True, use_gpu= True)\n",
        "    except:\n",
        "        print('MENSAGEM AO USUÁRIO: Favor fornecer um idioma válido')\n",
        "        return None\n",
        "    lst_tense = []\n",
        "    lst_processed_tense = []\n",
        "    for sentence in lst_sentences:   \n",
        "        doc = stanza_nlp([sentence])\n",
        "        for sent in doc.sentences:\n",
        "            for word in sent.words:\n",
        "                flag = False\n",
        "                words = str(word.feats).split('|')\n",
        "                for feats in words:\n",
        "                    if 'Tense' in feats:\n",
        "                        lst_tense.append(word.text + \"_\" + feats.split('=')[1])\n",
        "                        flag = True\n",
        "                        break\n",
        "                if flag == False:\n",
        "                    lst_tense.append(word.text + \"_\" + 'SEM_TENSO')    \n",
        "        lst_processed_tense.append(lst_tense)\n",
        "        lst_tense = []\n",
        "    \n",
        "    return lst_processed_tense\n"
      ],
      "execution_count": 11,
      "outputs": [
        {
          "output_type": "stream",
          "name": "stdout",
          "text": [
            "Requirement already satisfied: stanza in /usr/local/lib/python3.7/dist-packages (1.3.0)\n",
            "Requirement already satisfied: six in /usr/local/lib/python3.7/dist-packages (from stanza) (1.15.0)\n",
            "Requirement already satisfied: torch>=1.3.0 in /usr/local/lib/python3.7/dist-packages (from stanza) (1.10.0+cu111)\n",
            "Requirement already satisfied: protobuf in /usr/local/lib/python3.7/dist-packages (from stanza) (3.17.3)\n",
            "Requirement already satisfied: requests in /usr/local/lib/python3.7/dist-packages (from stanza) (2.23.0)\n",
            "Requirement already satisfied: tqdm in /usr/local/lib/python3.7/dist-packages (from stanza) (4.62.3)\n",
            "Requirement already satisfied: numpy in /usr/local/lib/python3.7/dist-packages (from stanza) (1.19.5)\n",
            "Requirement already satisfied: emoji in /usr/local/lib/python3.7/dist-packages (from stanza) (1.6.1)\n",
            "Requirement already satisfied: typing-extensions in /usr/local/lib/python3.7/dist-packages (from torch>=1.3.0->stanza) (3.10.0.2)\n",
            "Requirement already satisfied: chardet<4,>=3.0.2 in /usr/local/lib/python3.7/dist-packages (from requests->stanza) (3.0.4)\n",
            "Requirement already satisfied: urllib3!=1.25.0,!=1.25.1,<1.26,>=1.21.1 in /usr/local/lib/python3.7/dist-packages (from requests->stanza) (1.24.3)\n",
            "Requirement already satisfied: idna<3,>=2.5 in /usr/local/lib/python3.7/dist-packages (from requests->stanza) (2.10)\n",
            "Requirement already satisfied: certifi>=2017.4.17 in /usr/local/lib/python3.7/dist-packages (from requests->stanza) (2021.10.8)\n",
            "[nltk_data] Downloading package punkt to /root/nltk_data...\n",
            "[nltk_data]   Package punkt is already up-to-date!\n"
          ]
        }
      ]
    },
    {
      "cell_type": "markdown",
      "metadata": {
        "id": "OY1v1AssTpuP"
      },
      "source": [
        "# EXEMPLO SIMPLES DE COMO USAR AS FUNÇÕES (SEM PRE-PROCESSAMENTO)"
      ]
    },
    {
      "cell_type": "code",
      "metadata": {
        "colab": {
          "base_uri": "https://localhost:8080/"
        },
        "id": "STu8Tf9TsG15",
        "outputId": "6f07c465-8158-480e-d3bc-4fca6920ecb4"
      },
      "source": [
        "from google.colab import drive\n",
        "drive.mount('/content/drive')"
      ],
      "execution_count": 1,
      "outputs": [
        {
          "output_type": "stream",
          "name": "stdout",
          "text": [
            "Mounted at /content/drive\n"
          ]
        }
      ]
    },
    {
      "cell_type": "code",
      "metadata": {
        "id": "w6TdS4FWHMPU"
      },
      "source": [
        "with open('/content/drive/MyDrive/HarryPotter/Harry Potter e a camara secreta.txt', encoding='utf8', mode = \"r\") as f:\n",
        "    filecontent = f.read()"
      ],
      "execution_count": 2,
      "outputs": []
    },
    {
      "cell_type": "code",
      "metadata": {
        "id": "Mr8G_uJLbQOR"
      },
      "source": [
        "import re\n",
        "texto = re.sub(\"\\s?<.*?>\\s?\", \"\", filecontent)"
      ],
      "execution_count": 5,
      "outputs": []
    },
    {
      "cell_type": "code",
      "metadata": {
        "colab": {
          "base_uri": "https://localhost:8080/",
          "height": 810,
          "referenced_widgets": [
            "96ada9da52824d5eac0a3e27822139e4",
            "90e42b6153c24df2bd42cee07049a857",
            "66d1a857ed7c4a89936341cf9b2ebd70",
            "5c4a2edb2da04abea38d452df7bec6ee",
            "1d6baf11e0ae4994ae256f22c522e6b8",
            "56c49ebee260456e84eb6a044509babf",
            "7562c765d6614184a0ee12595d6fb8fe",
            "8b466c005fbd42b9a800f0d922bf6018",
            "3602bbeb865f44e9aebfef5c659e0c4e",
            "ce65e4634e01493f8d5969ec46cd2838",
            "3b49d50c7c5440fd9cca55dc953bab37",
            "ec9f2da97f6e401ea95adc3f355d3e3b",
            "e00d39b2d6804eb09a946de20f4d1dbd",
            "f02a2702f51c41ebb754c9e2e37197ac",
            "878a67fbe25944f5b9febe7d1a1715e9",
            "c515812c82a343db95d7e6dec32a28af",
            "d97b532269194401919afe7506ee3231",
            "6207d4ee9ed7406f9f7efbf6be5a8740",
            "872a8387279b4b14867efd08d266e8aa",
            "fef3897e25a1441fadd7496d4c605694",
            "b0408a1d0200460cbdc60f11ecdea753",
            "ad547c89e1304ec883d6c502ab25a812"
          ]
        },
        "id": "a5CbgU2BTaTa",
        "outputId": "1910abe0-515b-42cb-a3db-a882b4fa3339"
      },
      "source": [
        "parte_texto = texto[0:1000] # pequeno trecho do livro\n",
        "\n",
        "texto_segmentado = sent_tokenize(parte_texto, language = 'portuguese')\n",
        "\n",
        "\n",
        "lst_sentencas = []\n",
        "for sentencas in texto_segmentado:\n",
        "    lst_sentencas.append(word_tokenize(sentencas, language = 'portuguese'))\n",
        "\n",
        "lst_pos = pos_tagging(lst_sentencas, language = 'pt')\n",
        "lst_tense = tense(lst_sentencas, language = 'pt')"
      ],
      "execution_count": 14,
      "outputs": [
        {
          "output_type": "display_data",
          "data": {
            "application/vnd.jupyter.widget-view+json": {
              "model_id": "96ada9da52824d5eac0a3e27822139e4",
              "version_minor": 0,
              "version_major": 2
            },
            "text/plain": [
              "Downloading https://raw.githubusercontent.com/stanfordnlp/stanza-resources/main/resources_1.3.0.json:   0%|   …"
            ]
          },
          "metadata": {}
        },
        {
          "output_type": "stream",
          "name": "stderr",
          "text": [
            "2021-12-04 12:35:12 INFO: Downloading default packages for language: pt (Portuguese)...\n",
            "2021-12-04 12:35:13 INFO: File exists: /root/stanza_resources/pt/default.zip.\n",
            "2021-12-04 12:35:15 INFO: Finished downloading models and saved to /root/stanza_resources.\n",
            "2021-12-04 12:35:15 INFO: Loading these models for language: pt (Portuguese):\n",
            "=======================\n",
            "| Processor | Package |\n",
            "-----------------------\n",
            "| tokenize  | bosque  |\n",
            "| mwt       | bosque  |\n",
            "| pos       | bosque  |\n",
            "| lemma     | bosque  |\n",
            "| depparse  | bosque  |\n",
            "=======================\n",
            "\n",
            "2021-12-04 12:35:15 INFO: Use device: gpu\n",
            "2021-12-04 12:35:15 INFO: Loading: tokenize\n",
            "2021-12-04 12:35:15 INFO: Loading: mwt\n",
            "2021-12-04 12:35:15 INFO: Loading: pos\n",
            "2021-12-04 12:35:16 INFO: Loading: lemma\n",
            "2021-12-04 12:35:16 INFO: Loading: depparse\n",
            "2021-12-04 12:35:16 INFO: Done loading processors!\n"
          ]
        },
        {
          "output_type": "display_data",
          "data": {
            "application/vnd.jupyter.widget-view+json": {
              "model_id": "ec9f2da97f6e401ea95adc3f355d3e3b",
              "version_minor": 0,
              "version_major": 2
            },
            "text/plain": [
              "Downloading https://raw.githubusercontent.com/stanfordnlp/stanza-resources/main/resources_1.3.0.json:   0%|   …"
            ]
          },
          "metadata": {}
        },
        {
          "output_type": "stream",
          "name": "stderr",
          "text": [
            "2021-12-04 12:35:17 INFO: Downloading default packages for language: pt (Portuguese)...\n",
            "2021-12-04 12:35:18 INFO: File exists: /root/stanza_resources/pt/default.zip.\n",
            "2021-12-04 12:35:20 INFO: Finished downloading models and saved to /root/stanza_resources.\n",
            "2021-12-04 12:35:20 INFO: Loading these models for language: pt (Portuguese):\n",
            "=======================\n",
            "| Processor | Package |\n",
            "-----------------------\n",
            "| tokenize  | bosque  |\n",
            "| mwt       | bosque  |\n",
            "| pos       | bosque  |\n",
            "| lemma     | bosque  |\n",
            "| depparse  | bosque  |\n",
            "=======================\n",
            "\n",
            "2021-12-04 12:35:20 INFO: Use device: gpu\n",
            "2021-12-04 12:35:20 INFO: Loading: tokenize\n",
            "2021-12-04 12:35:20 INFO: Loading: mwt\n",
            "2021-12-04 12:35:20 INFO: Loading: pos\n",
            "2021-12-04 12:35:20 INFO: Loading: lemma\n",
            "2021-12-04 12:35:20 INFO: Loading: depparse\n",
            "2021-12-04 12:35:21 INFO: Done loading processors!\n"
          ]
        }
      ]
    },
    {
      "cell_type": "code",
      "metadata": {
        "colab": {
          "base_uri": "https://localhost:8080/"
        },
        "id": "XFew6XLMZ9wv",
        "outputId": "249b99e7-9893-4f8c-c42d-855a059901e4"
      },
      "source": [
        "lst_pos[0:10]"
      ],
      "execution_count": 15,
      "outputs": [
        {
          "output_type": "execute_result",
          "data": {
            "text/plain": [
              "[['O_DET', 'PIOR_ADJ', 'ANIVERSÁRIO_NOUN', '._PUNCT'],\n",
              " ['Não_ADV',\n",
              "  'era_AUX',\n",
              "  'a_DET',\n",
              "  'primeira_ADP',\n",
              "  'vez_NOUN',\n",
              "  'que_SCONJ',\n",
              "  'irrompia_VERB',\n",
              "  'uma_DET',\n",
              "  'discussão_NOUN',\n",
              "  'à_ADP',\n",
              "  'mesa_NOUN',\n",
              "  'do_ADP',\n",
              "  'café_NOUN',\n",
              "  'da_VERB',\n",
              "  'manhã_NOUN',\n",
              "  'na_PRON',\n",
              "  'rua_NOUN',\n",
              "  'dos_ADP',\n",
              "  'Alfeneiros_PROPN',\n",
              "  'número_NOUN',\n",
              "  '4_NUM',\n",
              "  '._PUNCT'],\n",
              " ['O_DET',\n",
              "  'Sr_PROPN',\n",
              "  'Válter_PROPN',\n",
              "  'Dursley_PROPN',\n",
              "  'fora_AUX',\n",
              "  'acordado_VERB',\n",
              "  'nas_PRON',\n",
              "  'primeiras_ADJ',\n",
              "  'horas_NOUN',\n",
              "  'da_ADP',\n",
              "  'manhã_NOUN',\n",
              "  'por_ADP',\n",
              "  'um_DET',\n",
              "  'pio_NOUN',\n",
              "  'alto_ADJ',\n",
              "  'que_PRON',\n",
              "  'vinha_VERB',\n",
              "  'do_ADP',\n",
              "  'quarto_NOUN',\n",
              "  'do_ADP',\n",
              "  'seu_DET',\n",
              "  'sobrinho_NOUN',\n",
              "  'Harry_PROPN',\n",
              "  '._PUNCT'],\n",
              " ['--_PUNCT',\n",
              "  'É_AUX',\n",
              "  'a_DET',\n",
              "  'terceira_ADJ',\n",
              "  'vez_NOUN',\n",
              "  'esta_DET',\n",
              "  'semana_NOUN',\n",
              "  '!_PUNCT'],\n",
              " ['--_PUNCT', 'berrou_VERB', 'ele_PRON', 'à_DET', 'mesa_NOUN', '._PUNCT'],\n",
              " ['--_PUNCT',\n",
              "  'Se_SCONJ',\n",
              "  'você_PRON',\n",
              "  'não_ADV',\n",
              "  'consegue_VERB',\n",
              "  'controlar_VERB',\n",
              "  'essa_DET',\n",
              "  'coruja_NOUN',\n",
              "  ',_PUNCT',\n",
              "  'teremos_AUX',\n",
              "  'que_SCONJ',\n",
              "  'mandá-la_VERB',\n",
              "  'embora_SCONJ',\n",
              "  '!_PUNCT'],\n",
              " ['Harry_PROPN',\n",
              "  'tentou_VERB',\n",
              "  'explicar_VERB',\n",
              "  ',_PUNCT',\n",
              "  'mais_NOUN',\n",
              "  'uma_ADP',\n",
              "  'vez_NOUN',\n",
              "  '._PUNCT'],\n",
              " ['--_PUNCT', 'Ela_PRON', 'está_AUX', 'chateada_ADJ', '._PUNCT'],\n",
              " ['Está_AUX',\n",
              "  'acostumada_ADJ',\n",
              "  'a_SCONJ',\n",
              "  'voar_VERB',\n",
              "  'ao_ADP',\n",
              "  'ar_NOUN',\n",
              "  'livre_ADJ',\n",
              "  '._PUNCT'],\n",
              " ['Se_SCONJ',\n",
              "  'eu_PRON',\n",
              "  'ao_ADP',\n",
              "  'menos_ADV',\n",
              "  'pudesse_VERB',\n",
              "  'soltá-la_VERB',\n",
              "  'à_ADP',\n",
              "  'noite_NOUN',\n",
              "  '..._PUNCT',\n",
              "  '--_PUNCT',\n",
              "  'Eu_PRON',\n",
              "  'tenho_VERB',\n",
              "  'cara_NOUN',\n",
              "  'de_ADP',\n",
              "  'idiota_NOUN',\n",
              "  '?_PUNCT']]"
            ]
          },
          "metadata": {},
          "execution_count": 15
        }
      ]
    },
    {
      "cell_type": "code",
      "metadata": {
        "colab": {
          "base_uri": "https://localhost:8080/"
        },
        "id": "hUvNLXN5aBEp",
        "outputId": "40eecc76-1da4-4406-ac2a-200115650378"
      },
      "source": [
        "lst_tense[0:10]"
      ],
      "execution_count": 16,
      "outputs": [
        {
          "output_type": "execute_result",
          "data": {
            "text/plain": [
              "[['O_SEM_TENSO', 'PIOR_SEM_TENSO', 'ANIVERSÁRIO_SEM_TENSO', '._SEM_TENSO'],\n",
              " ['Não_SEM_TENSO',\n",
              "  'era_Imp',\n",
              "  'a_SEM_TENSO',\n",
              "  'primeira_SEM_TENSO',\n",
              "  'vez_SEM_TENSO',\n",
              "  'que_SEM_TENSO',\n",
              "  'irrompia_Pres',\n",
              "  'uma_SEM_TENSO',\n",
              "  'discussão_SEM_TENSO',\n",
              "  'à_SEM_TENSO',\n",
              "  'mesa_SEM_TENSO',\n",
              "  'do_SEM_TENSO',\n",
              "  'café_SEM_TENSO',\n",
              "  'da_Pres',\n",
              "  'manhã_SEM_TENSO',\n",
              "  'na_SEM_TENSO',\n",
              "  'rua_SEM_TENSO',\n",
              "  'dos_SEM_TENSO',\n",
              "  'Alfeneiros_SEM_TENSO',\n",
              "  'número_SEM_TENSO',\n",
              "  '4_SEM_TENSO',\n",
              "  '._SEM_TENSO'],\n",
              " ['O_SEM_TENSO',\n",
              "  'Sr_SEM_TENSO',\n",
              "  'Válter_SEM_TENSO',\n",
              "  'Dursley_SEM_TENSO',\n",
              "  'fora_Past',\n",
              "  'acordado_SEM_TENSO',\n",
              "  'nas_SEM_TENSO',\n",
              "  'primeiras_SEM_TENSO',\n",
              "  'horas_SEM_TENSO',\n",
              "  'da_SEM_TENSO',\n",
              "  'manhã_SEM_TENSO',\n",
              "  'por_SEM_TENSO',\n",
              "  'um_SEM_TENSO',\n",
              "  'pio_SEM_TENSO',\n",
              "  'alto_SEM_TENSO',\n",
              "  'que_SEM_TENSO',\n",
              "  'vinha_Imp',\n",
              "  'do_SEM_TENSO',\n",
              "  'quarto_SEM_TENSO',\n",
              "  'do_SEM_TENSO',\n",
              "  'seu_SEM_TENSO',\n",
              "  'sobrinho_SEM_TENSO',\n",
              "  'Harry_SEM_TENSO',\n",
              "  '._SEM_TENSO'],\n",
              " ['--_SEM_TENSO',\n",
              "  'É_Pres',\n",
              "  'a_SEM_TENSO',\n",
              "  'terceira_SEM_TENSO',\n",
              "  'vez_SEM_TENSO',\n",
              "  'esta_SEM_TENSO',\n",
              "  'semana_SEM_TENSO',\n",
              "  '!_SEM_TENSO'],\n",
              " ['--_SEM_TENSO',\n",
              "  'berrou_Past',\n",
              "  'ele_SEM_TENSO',\n",
              "  'à_SEM_TENSO',\n",
              "  'mesa_SEM_TENSO',\n",
              "  '._SEM_TENSO'],\n",
              " ['--_SEM_TENSO',\n",
              "  'Se_SEM_TENSO',\n",
              "  'você_SEM_TENSO',\n",
              "  'não_SEM_TENSO',\n",
              "  'consegue_Pres',\n",
              "  'controlar_SEM_TENSO',\n",
              "  'essa_SEM_TENSO',\n",
              "  'coruja_SEM_TENSO',\n",
              "  ',_SEM_TENSO',\n",
              "  'teremos_Fut',\n",
              "  'que_SEM_TENSO',\n",
              "  'mandá-la_SEM_TENSO',\n",
              "  'embora_SEM_TENSO',\n",
              "  '!_SEM_TENSO'],\n",
              " ['Harry_SEM_TENSO',\n",
              "  'tentou_Past',\n",
              "  'explicar_SEM_TENSO',\n",
              "  ',_SEM_TENSO',\n",
              "  'mais_SEM_TENSO',\n",
              "  'uma_SEM_TENSO',\n",
              "  'vez_SEM_TENSO',\n",
              "  '._SEM_TENSO'],\n",
              " ['--_SEM_TENSO',\n",
              "  'Ela_SEM_TENSO',\n",
              "  'está_Pres',\n",
              "  'chateada_SEM_TENSO',\n",
              "  '._SEM_TENSO'],\n",
              " ['Está_Pres',\n",
              "  'acostumada_SEM_TENSO',\n",
              "  'a_SEM_TENSO',\n",
              "  'voar_SEM_TENSO',\n",
              "  'ao_SEM_TENSO',\n",
              "  'ar_SEM_TENSO',\n",
              "  'livre_SEM_TENSO',\n",
              "  '._SEM_TENSO'],\n",
              " ['Se_SEM_TENSO',\n",
              "  'eu_SEM_TENSO',\n",
              "  'ao_SEM_TENSO',\n",
              "  'menos_SEM_TENSO',\n",
              "  'pudesse_Imp',\n",
              "  'soltá-la_SEM_TENSO',\n",
              "  'à_SEM_TENSO',\n",
              "  'noite_SEM_TENSO',\n",
              "  '..._SEM_TENSO',\n",
              "  '--_SEM_TENSO',\n",
              "  'Eu_SEM_TENSO',\n",
              "  'tenho_Pres',\n",
              "  'cara_SEM_TENSO',\n",
              "  'de_SEM_TENSO',\n",
              "  'idiota_SEM_TENSO',\n",
              "  '?_SEM_TENSO']]"
            ]
          },
          "metadata": {},
          "execution_count": 16
        }
      ]
    },
    {
      "cell_type": "markdown",
      "metadata": {
        "id": "9FT1ZsMDVk62"
      },
      "source": [
        "# EXEMPLO DE EXPANSÃO DE CONTRAÇÕES PARA O INGLÊS"
      ]
    },
    {
      "cell_type": "code",
      "metadata": {
        "colab": {
          "base_uri": "https://localhost:8080/"
        },
        "id": "LqoPbogMgU5O",
        "outputId": "5b34695a-467c-41d6-c0fb-aee1c98f386e"
      },
      "source": [
        "!pip install contractions\n",
        "import contractions"
      ],
      "execution_count": 18,
      "outputs": [
        {
          "output_type": "stream",
          "name": "stdout",
          "text": [
            "Collecting contractions\n",
            "  Downloading contractions-0.0.58-py2.py3-none-any.whl (8.0 kB)\n",
            "Collecting textsearch>=0.0.21\n",
            "  Downloading textsearch-0.0.21-py2.py3-none-any.whl (7.5 kB)\n",
            "Collecting pyahocorasick\n",
            "  Downloading pyahocorasick-1.4.2.tar.gz (321 kB)\n",
            "\u001b[K     |████████████████████████████████| 321 kB 13.3 MB/s \n",
            "\u001b[?25hCollecting anyascii\n",
            "  Downloading anyascii-0.3.0-py3-none-any.whl (284 kB)\n",
            "\u001b[K     |████████████████████████████████| 284 kB 41.9 MB/s \n",
            "\u001b[?25hBuilding wheels for collected packages: pyahocorasick\n",
            "  Building wheel for pyahocorasick (setup.py) ... \u001b[?25l\u001b[?25hdone\n",
            "  Created wheel for pyahocorasick: filename=pyahocorasick-1.4.2-cp37-cp37m-linux_x86_64.whl size=85442 sha256=3dcc714614106ea77418c667a461e63a99d1760d2014d44ce1e7be0ee8f76a6a\n",
            "  Stored in directory: /root/.cache/pip/wheels/25/19/a6/8f363d9939162782bb8439d886469756271abc01f76fbd790f\n",
            "Successfully built pyahocorasick\n",
            "Installing collected packages: pyahocorasick, anyascii, textsearch, contractions\n",
            "Successfully installed anyascii-0.3.0 contractions-0.0.58 pyahocorasick-1.4.2 textsearch-0.0.21\n"
          ]
        }
      ]
    },
    {
      "cell_type": "code",
      "metadata": {
        "id": "suDxbDuBVyFl"
      },
      "source": [
        "texto = \"There's more in the frying pan, sweetums, said Aunt Petunia, turning misty eyes on her massive can't. We must build you up while we've got the chance... I don't like the sound of that\"\n",
        "\n",
        "text = contractions.fix(texto) # tem alguns erros, neste caso verificamos que colocou o termo \"there\" em letras minúsculas"
      ],
      "execution_count": 20,
      "outputs": []
    },
    {
      "cell_type": "code",
      "metadata": {
        "colab": {
          "base_uri": "https://localhost:8080/",
          "height": 35
        },
        "id": "LFEAC0p9Y0jC",
        "outputId": "8986d935-2525-444a-a414-be3836b9641e"
      },
      "source": [
        "text"
      ],
      "execution_count": 21,
      "outputs": [
        {
          "output_type": "execute_result",
          "data": {
            "application/vnd.google.colaboratory.intrinsic+json": {
              "type": "string"
            },
            "text/plain": [
              "'there is more in the frying pan, sweetums, said Aunt Petunia, turning misty eyes on her massive cannot. We must build you up while we have got the chance... I do not like the sound of that'"
            ]
          },
          "metadata": {},
          "execution_count": 21
        }
      ]
    },
    {
      "cell_type": "code",
      "metadata": {
        "id": "9Ur2dhYEcxgK"
      },
      "source": [
        ""
      ],
      "execution_count": null,
      "outputs": []
    }
  ]
}